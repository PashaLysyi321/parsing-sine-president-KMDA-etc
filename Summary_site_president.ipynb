{
 "cells": [
  {
   "cell_type": "code",
   "execution_count": 27,
   "metadata": {},
   "outputs": [],
   "source": [
    "import requests\n",
    "from bs4 import BeautifulSoup\n",
    "from deep_translator import (GoogleTranslator,MicrosoftTranslator,MyMemoryTranslator)\n",
    "import torch\n",
    "from transformers import AutoTokenizer, AutoModelWithLMHead, pipeline\n",
    "\n",
    "def get_text(url):\n",
    "    rs = requests.get(url)\n",
    "    root = BeautifulSoup(rs.content, 'html.parser')\n",
    "    article = root.select_one('article')\n",
    "    return article\n",
    "\n",
    "\n",
    "def get_mass_result(url):\n",
    "    text = get_text(url)\n",
    "    mass = [i if len(i) > 15 else 0 for i in text.text.replace('  ','').split('\\n')]\n",
    "\n",
    "    while mass.count(0) != 0:\n",
    "        mass.remove(0)\n",
    "    print(title)\n",
    "    #print(GoogleTranslator(source='russian', target='ukrainian').translate(mass[0]))\n",
    "    print('\\n\\n')\n",
    "    text = ''\n",
    "    for i in mass[1:]:\n",
    "        text+=i\n",
    "        text+=' '\n",
    "    text = [i if len(i)>5 else None for i in text.split('. ')]\n",
    "    while text.count(None) != 0:\n",
    "        text.remove(None)\n",
    "\n",
    "    english_text_mass = [GoogleTranslator(source='russian', target='english').translate(i) for i in text]\n",
    "    english_text = ''\n",
    "    for i in english_text_mass:\n",
    "        english_text+=i\n",
    "        english_text+=' '\n",
    "    return english_text\n",
    "\n",
    "\n",
    "def summary1(english_text):\n",
    "    tokenizer = AutoTokenizer.from_pretrained('t5-base')\n",
    "    model = AutoModelWithLMHead.from_pretrained('t5-base', return_dict=True)\n",
    "    inputs = tokenizer.encode(\"summarize: \" + english_text,return_tensors='pt',max_length=512,truncation=True)\n",
    "    summary_ids = model.generate(inputs, max_length=150, min_length=50, length_penalty=5., num_beams=2)\n",
    "    summary = tokenizer.decode(summary_ids[0])\n",
    "    return (GoogleTranslator(source='english', target='ukrainian').translate(summary))\n",
    "\n",
    "\n",
    "def summary2(english_text):\n",
    "    summarization = pipeline(\"summarization\")\n",
    "    summary_text = summarization(english_text)[0]['summary_text']\n",
    "    return (GoogleTranslator(source='english', target='ukrainian').translate(summary_text))\n"
   ]
  },
  {
   "cell_type": "code",
   "execution_count": 28,
   "metadata": {},
   "outputs": [
    {
     "name": "stdout",
     "output_type": "stream",
     "text": [
      "YouTube тестує функцію автоматичної ідентифікації у відео\n",
      "\n",
      "\n",
      "\n",
      " YouTube експериментує з новою функцією, яка відображає список продуктів, знайдених у деяких відео. такі продукти відображатимуться між рекомендованими відео для глядачів, які прокручуються під програвачем. мета - допомогти людям знайти більше відео та інформацію про ці продукти на YouTube. \n"
     ]
    }
   ],
   "source": [
    "url = 'https://itc.ua/news/youtube-testiruet-funkcziyu-avtomaticheskogo-opredeleniya-produktov-v-video/'\n",
    "rs = requests.get(url)\n",
    "root = BeautifulSoup(rs.content, 'html.parser')\n",
    "english_text = get_mass_result(url)\n",
    "print(summary1(english_text).replace('<pad>','').replace('</s>',''))"
   ]
  },
  {
   "cell_type": "code",
   "execution_count": 29,
   "metadata": {},
   "outputs": [
    {
     "name": "stdout",
     "output_type": "stream",
     "text": [
      "YouTube тестує функцію автоматичної ідентифікації у відео\n",
      "\n",
      "\n",
      "\n",
      "YouTube розпочав новий експеримент, у рамках якого тестується можливість автоматичного визначення списку продуктів у завантажуваних відео. Цей тест було розпочато 22 березня і поширюється на \"людей, які переглядають відео в США\". Мета - допомогти людям знайти більше відео та інформацію про ці продукти на YouTube.\n"
     ]
    }
   ],
   "source": [
    "english_text = get_mass_result(url)\n",
    "print(summary2(english_text).replace('<pad>','').replace('</s>',''))"
   ]
  },
  {
   "cell_type": "code",
   "execution_count": null,
   "metadata": {},
   "outputs": [],
   "source": []
  },
  {
   "cell_type": "code",
   "execution_count": null,
   "metadata": {},
   "outputs": [],
   "source": []
  },
  {
   "cell_type": "code",
   "execution_count": null,
   "metadata": {},
   "outputs": [],
   "source": []
  },
  {
   "cell_type": "code",
   "execution_count": null,
   "metadata": {},
   "outputs": [],
   "source": []
  },
  {
   "cell_type": "code",
   "execution_count": null,
   "metadata": {},
   "outputs": [],
   "source": []
  },
  {
   "cell_type": "code",
   "execution_count": 1,
   "metadata": {},
   "outputs": [],
   "source": [
    "url = 'https://www.president.gov.ua/news/prishvidshennya-vakcinaciyi-ta-pidtrimku-lyudej-i-biznesu-u-67273'"
   ]
  },
  {
   "cell_type": "code",
   "execution_count": 4,
   "metadata": {},
   "outputs": [
    {
     "data": {
      "text/plain": [
       "'Пришвидшення вакцинації та підтримку людей і бізнесу у «червоних» зонах обговорили на нараді в Президента — Офіційне інтернет-представництво Президента України'"
      ]
     },
     "execution_count": 4,
     "metadata": {},
     "output_type": "execute_result"
    }
   ],
   "source": [
    "rs = requests.get(url)\n",
    "url_text = rs.text\n",
    "title = url_text.split('<title>')[1].split('</title>')[0]\n",
    "title"
   ]
  },
  {
   "cell_type": "code",
   "execution_count": 6,
   "metadata": {},
   "outputs": [
    {
     "data": {
      "text/plain": [
       "\"Пришвидшення вакцинації та підтримку людей і бізнесу у «червоних» зонах обговорили на нараді в Президента     Київ, Вінницька та Івано-Франківська області нині мають найбільшу динаміку зростання кількості хворих на COVID-19. Про це повідомили на селекторній нараді щодо запобігання поширенню коронавірусної хвороби, яка відбулася під головуванням Президента України Володимира Зеленського. Прем'єр-міністр Денис Шмигаль поінформував, що активних хворих в країні станом на сьогодні понад 263 тисячі. «Із 63 тисяч ліжок із підведеним киснем заповнені 39 тисяч. Ліжок інтенсивної терапії зайнято 2 тисячі 652 із 4 тисяч 909», – зазначив голова уряду. Денис Шмигаль додав, що 20 березня було проведено засідання Державної комісії з питань ТЕБ і НС, за підсумками якого до «червоної» зони були віднесені місто Київ та Одеська область. Крім того, сьогодні зранку за дорученням Президента України очільник уряду провів нараду з міністрами щодо розробки механізмів спільної з органами місцевого самоврядування підтримки бізнесу і людей у «червоних» зонах. Володимир Зеленський повідомив, що має намір якнайшвидше підписати ухвалений парламентом 19 березня закон, згідно з яким держава бере на себе відповідальність за наслідки щеплення проти коронавірусу. Після цього постановою Кабінету Міністрів буде створено спеціальний компенсаційний фонд. За результатами наради під головуванням Глави держави Денис Шмигаль доручив міністру охорони здоров'я Максиму Степанову внести зміни до плану вакцинації, які дадуть змогу якнайшвидше вакцинувати громадян, що записались на щеплення через портал «Дія». Також уряд працює над тим, щоб якнайшвидше отримати обіцяні вакцини від COVID-19. Наразі домовленості є не лише в межах програми COVAX, а й щодо вакцин Covishield, Sinovac, Pfizer. Головнокомандувач Збройних сил України Руслан Хомчак повідомив, що в українській армії вже вакциновано понад 13 тисяч осіб.  \""
      ]
     },
     "execution_count": 6,
     "metadata": {},
     "output_type": "execute_result"
    }
   ],
   "source": [
    "import html2text\n",
    "\n",
    "text = url_text.split('<div itemprop=\"articleBody\" class=\"article_content\">')[1].split('</div>')[0]\n",
    "text = text.replace('(',' ').replace(')',' ')\n",
    "h = html2text.HTML2Text()\n",
    "h.ignore_links = True\n",
    "text = h.handle(text)\n",
    "\n",
    "answer = []\n",
    "while text.count('(')!= 0:\n",
    "    text = text.replace('![','').replace(']','')\n",
    "    text = text.split('(',1)\n",
    "    answer = text[0]\n",
    "    answer+=' '\n",
    "    answer+=(text[1].split(')',1)[1])\n",
    "    answer+=' '\n",
    "    text = answer\n",
    "    \n",
    "text = text.replace('\\n\\n',' ').replace('\\n',' ').replace('_',' ')\n",
    "text"
   ]
  },
  {
   "cell_type": "code",
   "execution_count": null,
   "metadata": {},
   "outputs": [],
   "source": [
    "text = [i if len(i)>5 else None for i in text.split('. ')]\n",
    "while text.count(None) != 0:\n",
    "    text.remove(None)\n",
    "\n",
    "english_text_mass = [GoogleTranslator(source='ukrainian', target='english').translate(i) for i in text]\n",
    "english_text = ''\n",
    "for i in english_text_mass:\n",
    "    english_text+=i\n",
    "    english_text+='. '"
   ]
  },
  {
   "cell_type": "code",
   "execution_count": null,
   "metadata": {},
   "outputs": [],
   "source": [
    "print(summary1(english_text))"
   ]
  },
  {
   "cell_type": "code",
   "execution_count": 146,
   "metadata": {},
   "outputs": [
    {
     "name": "stdout",
     "output_type": "stream",
     "text": [
      "Президент України Володимир Зеленський привітав українську поетесу Ліну Костенко з днем ​​народження. Глава держави наголосив, що робота Ліни завжди сповнена любові до рідного краю та людської мудрості та правди. \"Щиро бажаю, щоб ваша доля повела вас по щасливому життєвому шляху\", - додав він.\n"
     ]
    }
   ],
   "source": [
    "print(summary2(english_text))"
   ]
  }
 ],
 "metadata": {
  "kernelspec": {
   "display_name": "Python 3 (ipykernel)",
   "language": "python",
   "name": "python3"
  },
  "language_info": {
   "codemirror_mode": {
    "name": "ipython",
    "version": 3
   },
   "file_extension": ".py",
   "mimetype": "text/x-python",
   "name": "python",
   "nbconvert_exporter": "python",
   "pygments_lexer": "ipython3",
   "version": "3.8.7"
  }
 },
 "nbformat": 4,
 "nbformat_minor": 4
}
