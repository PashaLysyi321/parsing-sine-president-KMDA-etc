{
 "cells": [
  {
   "cell_type": "code",
   "execution_count": 72,
   "metadata": {},
   "outputs": [],
   "source": [
    "import html2text\n",
    "from deep_translator import (GoogleTranslator,MicrosoftTranslator,MyMemoryTranslator)\n",
    "import pandas as pd\n",
    "from transformers import AutoTokenizer, AutoModelWithLMHead, pipeline\n",
    "import requests\n",
    "from bs4 import BeautifulSoup\n",
    "\n",
    "def get_text(url):\n",
    "\n",
    "    rs = requests.get(url)\n",
    "    url_text = rs.text\n",
    "    title_name = url_text.split('<title>')[1].split('</title>')[0]\n",
    "    text = url_text.replace('</p>','<p>').split('<p>')[1:]\n",
    "\n",
    "    text = [i if len(i)<1000 else None for i in text]\n",
    "    while text.count(None) != 0:\n",
    "        text.remove(None)\n",
    "    text = text[:-2]\n",
    "\n",
    "    all_text = ''\n",
    "    for i in text:\n",
    "        all_text += i\n",
    "\n",
    "    h = html2text.HTML2Text()\n",
    "    h.ignore_links = True\n",
    "    text = h.handle(all_text)\n",
    "\n",
    "    return [title_name,text]"
   ]
  },
  {
   "cell_type": "code",
   "execution_count": 73,
   "metadata": {},
   "outputs": [],
   "source": [
    "url='https://kyivcity.gov.ua/news/vitaliy_klichko_odnu_shkolu_v_stolitsi_povnistyu_zakrili_na_karantin/'"
   ]
  },
  {
   "cell_type": "code",
   "execution_count": 1,
   "metadata": {
    "scrolled": false
   },
   "outputs": [],
   "source": [
    "#print(get_text(url)[0])\n",
    "#print('\\n')\n",
    "#print(get_text(url)[1])"
   ]
  }
 ],
 "metadata": {
  "kernelspec": {
   "display_name": "Python 3 (ipykernel)",
   "language": "python",
   "name": "python3"
  },
  "language_info": {
   "codemirror_mode": {
    "name": "ipython",
    "version": 3
   },
   "file_extension": ".py",
   "mimetype": "text/x-python",
   "name": "python",
   "nbconvert_exporter": "python",
   "pygments_lexer": "ipython3",
   "version": "3.8.7"
  }
 },
 "nbformat": 4,
 "nbformat_minor": 4
}
